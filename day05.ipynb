{
 "cells": [
  {
   "cell_type": "code",
   "execution_count": 1,
   "metadata": {},
   "outputs": [],
   "source": [
    "my_students = ['devi','naresh','satya','neha','vijaylakshmi','Malvecaa','adil','amit','mahesh']"
   ]
  },
  {
   "cell_type": "code",
   "execution_count": 2,
   "metadata": {},
   "outputs": [
    {
     "name": "stdout",
     "output_type": "stream",
     "text": [
      "['devi', 'naresh', 'satya', 'neha', 'vijaylakshmi', 'Malvecaa', 'adil', 'amit', 'mahesh']\n"
     ]
    }
   ],
   "source": [
    "print(my_students)"
   ]
  },
  {
   "cell_type": "code",
   "execution_count": 5,
   "metadata": {},
   "outputs": [
    {
     "name": "stdout",
     "output_type": "stream",
     "text": [
      "keep up the good work,devi\n"
     ]
    }
   ],
   "source": [
    "print(f\"keep up the good work,{my_students[0]}\")"
   ]
  },
  {
   "cell_type": "code",
   "execution_count": 7,
   "metadata": {},
   "outputs": [
    {
     "name": "stdout",
     "output_type": "stream",
     "text": [
      "['devi', 'naresh', 'satya', 'neha', 'vijaylakshmi', 'Malvecaa', 'adil', 'amit', 'mahesh']\n"
     ]
    }
   ],
   "source": [
    "tempvar = my_students\n",
    "print(tempvar)"
   ]
  },
  {
   "cell_type": "code",
   "execution_count": 8,
   "metadata": {},
   "outputs": [
    {
     "name": "stdout",
     "output_type": "stream",
     "text": [
      "devi\n",
      "naresh\n",
      "satya\n",
      "neha\n",
      "vijaylakshmi\n",
      "Malvecaa\n",
      "adil\n",
      "amit\n",
      "mahesh\n"
     ]
    }
   ],
   "source": [
    "for student in my_students:\n",
    " print(student)"
   ]
  },
  {
   "cell_type": "code",
   "execution_count": 9,
   "metadata": {},
   "outputs": [
    {
     "name": "stdout",
     "output_type": "stream",
     "text": [
      "devi\n",
      "naresh\n",
      "satya\n",
      "neha\n",
      "vijaylakshmi\n",
      "Malvecaa\n",
      "adil\n",
      "amit\n",
      "mahesh\n"
     ]
    }
   ],
   "source": [
    "for x in my_students:\n",
    " print(x)"
   ]
  },
  {
   "cell_type": "code",
   "execution_count": 10,
   "metadata": {},
   "outputs": [
    {
     "name": "stdout",
     "output_type": "stream",
     "text": [
      "keep up the good work, Devi\n",
      "looking forward to receive your practise for today as well. Devi.\n",
      "\n",
      "keep up the good work, Naresh\n",
      "looking forward to receive your practise for today as well. Naresh.\n",
      "\n",
      "keep up the good work, Satya\n",
      "looking forward to receive your practise for today as well. Satya.\n",
      "\n",
      "keep up the good work, Neha\n",
      "looking forward to receive your practise for today as well. Neha.\n",
      "\n",
      "keep up the good work, Vijaylakshmi\n",
      "looking forward to receive your practise for today as well. Vijaylakshmi.\n",
      "\n",
      "keep up the good work, Malvecaa\n",
      "looking forward to receive your practise for today as well. Malvecaa.\n",
      "\n",
      "keep up the good work, Adil\n",
      "looking forward to receive your practise for today as well. Adil.\n",
      "\n",
      "keep up the good work, Amit\n",
      "looking forward to receive your practise for today as well. Amit.\n",
      "\n",
      "keep up the good work, Mahesh\n",
      "looking forward to receive your practise for today as well. Mahesh.\n",
      "\n"
     ]
    }
   ],
   "source": [
    "for x in my_students:\n",
    " print(f\"keep up the good work, {x.title()}\")\n",
    " print(f\"looking forward to receive your practise for today as well. {x.title()}.\\n\")"
   ]
  },
  {
   "cell_type": "code",
   "execution_count": null,
   "metadata": {},
   "outputs": [],
   "source": []
  },
  {
   "cell_type": "code",
   "execution_count": null,
   "metadata": {},
   "outputs": [],
   "source": []
  },
  {
   "cell_type": "code",
   "execution_count": null,
   "metadata": {},
   "outputs": [],
   "source": []
  },
  {
   "cell_type": "code",
   "execution_count": null,
   "metadata": {},
   "outputs": [],
   "source": []
  },
  {
   "cell_type": "code",
   "execution_count": null,
   "metadata": {},
   "outputs": [],
   "source": []
  },
  {
   "cell_type": "code",
   "execution_count": null,
   "metadata": {},
   "outputs": [],
   "source": []
  },
  {
   "cell_type": "code",
   "execution_count": null,
   "metadata": {},
   "outputs": [],
   "source": []
  },
  {
   "cell_type": "code",
   "execution_count": null,
   "metadata": {},
   "outputs": [],
   "source": []
  },
  {
   "cell_type": "code",
   "execution_count": null,
   "metadata": {},
   "outputs": [],
   "source": []
  },
  {
   "cell_type": "code",
   "execution_count": null,
   "metadata": {},
   "outputs": [],
   "source": []
  },
  {
   "cell_type": "code",
   "execution_count": null,
   "metadata": {},
   "outputs": [],
   "source": []
  },
  {
   "cell_type": "code",
   "execution_count": null,
   "metadata": {},
   "outputs": [],
   "source": []
  },
  {
   "cell_type": "code",
   "execution_count": null,
   "metadata": {},
   "outputs": [],
   "source": []
  }
 ],
 "metadata": {
  "kernelspec": {
   "display_name": "Python 3",
   "language": "python",
   "name": "python3"
  },
  "language_info": {
   "codemirror_mode": {
    "name": "ipython",
    "version": 3
   },
   "file_extension": ".py",
   "mimetype": "text/x-python",
   "name": "python",
   "nbconvert_exporter": "python",
   "pygments_lexer": "ipython3",
   "version": "3.7.6"
  }
 },
 "nbformat": 4,
 "nbformat_minor": 4
}
